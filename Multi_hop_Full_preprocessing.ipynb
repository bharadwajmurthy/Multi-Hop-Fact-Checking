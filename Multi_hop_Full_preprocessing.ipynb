{
 "cells": [
  {
   "cell_type": "code",
   "execution_count": 26,
   "metadata": {},
   "outputs": [],
   "source": [
    "import bz2\n",
    "import json\n",
    "import os\n",
    "import re\n",
    "import tarfile"
   ]
  },
  {
   "cell_type": "code",
   "execution_count": 28,
   "metadata": {},
   "outputs": [],
   "source": [
    "def clean_text(text):\n",
    "    \"\"\"Remove HTML tags and replace escaped quotes with actual quotes.\"\"\"\n",
    "    text = re.sub('<.*?>', '', text)\n",
    "    text = text.replace('\\\\\"', '')\n",
    "    return text"
   ]
  },
  {
   "cell_type": "code",
   "execution_count": 29,
   "metadata": {},
   "outputs": [],
   "source": [
    "def process_json_object(json_obj):\n",
    "    \"\"\"Combine title and text, and clean the text.\"\"\"\n",
    "    combined_text = \" \".join([\" \".join(paragraph) for paragraph in json_obj['text']])\n",
    "    cleaned_combined_text = clean_text(combined_text)\n",
    "    return {\n",
    "        \"id\": json_obj['id'],\n",
    "        \"title\": json_obj['title'],\n",
    "        \"combine_text\": json_obj['title'] + \" \" + cleaned_combined_text\n",
    "    }"
   ]
  },
  {
   "cell_type": "code",
   "execution_count": 40,
   "metadata": {},
   "outputs": [],
   "source": [
    "def process_bz2_files_in_subfolder(subfolder_path, combined_output_path):\n",
    "    \"\"\"Process all .bz2 files in a given sub-folder and combine their output.\"\"\"\n",
    "    combined_output = []\n",
    "    for filename in os.listdir(subfolder_path):\n",
    "        if filename.endswith('.bz2'):\n",
    "            bz2_file_path = os.path.join(subfolder_path, filename)\n",
    "            with bz2.open(bz2_file_path, 'rt') as file:\n",
    "                for line in file:\n",
    "                    json_obj = json.loads(line)\n",
    "                    processed_json_obj = process_json_object(json_obj)\n",
    "                    combined_output.append(processed_json_obj)\n",
    "    # Ensure the directory exists before writing\n",
    "    os.makedirs(os.path.dirname(combined_output_path), exist_ok=True)\n",
    "    # Write combined output to a single file\n",
    "    with open(combined_output_path, 'w', encoding='utf-8') as output_file:\n",
    "        json.dump(combined_output, output_file, ensure_ascii=False, indent=4)"
   ]
  },
  {
   "cell_type": "code",
   "execution_count": 42,
   "metadata": {},
   "outputs": [],
   "source": [
    "def extract_and_process_tar_bz2(input_tar_bz2_path, output_base_directory):\n",
    "    \"\"\"Extract a .tar.bz2 archive and process its contents, combining output into single JSON files.\"\"\"\n",
    "    output_directory = os.path.join(output_base_directory, 'processed_wiki_json')\n",
    "    # Moved os.makedirs here to ensure the directory is created before it's needed\n",
    "    os.makedirs(output_directory, exist_ok=True)\n",
    "    \n",
    "    with tarfile.open(input_tar_bz2_path, \"r:bz2\") as tar:\n",
    "        tar.extractall(path=output_base_directory)\n",
    "        for member in tar.getmembers():\n",
    "            if member.isdir():\n",
    "                subfolder_name = os.path.basename(member.name)\n",
    "                subfolder_path = os.path.join(output_base_directory, member.name)\n",
    "                combined_output_path = os.path.join(output_directory, f\"{subfolder_name}_combined.json\")\n",
    "                process_bz2_files_in_subfolder(subfolder_path, combined_output_path)"
   ]
  },
  {
   "cell_type": "code",
   "execution_count": 43,
   "metadata": {},
   "outputs": [],
   "source": [
    "\n",
    "\n",
    "input_tar_bz2_path = 'enwiki-20171001-pages-meta-current-withlinks-processed.tar.bz2'\n",
    "output_base_directory = 'Preprocessed_json_objects'\n",
    "\n",
    "extract_and_process_tar_bz2(input_tar_bz2_path, output_base_directory)\n"
   ]
  }
 ],
 "metadata": {
  "kernelspec": {
   "display_name": "Python 3",
   "language": "python",
   "name": "python3"
  },
  "language_info": {
   "codemirror_mode": {
    "name": "ipython",
    "version": 3
   },
   "file_extension": ".py",
   "mimetype": "text/x-python",
   "name": "python",
   "nbconvert_exporter": "python",
   "pygments_lexer": "ipython3",
   "version": "3.9.19"
  }
 },
 "nbformat": 4,
 "nbformat_minor": 2
}
