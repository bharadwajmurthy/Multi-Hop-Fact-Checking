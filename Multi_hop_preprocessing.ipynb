{
 "cells": [
  {
   "cell_type": "code",
   "execution_count": 31,
   "metadata": {},
   "outputs": [],
   "source": [
    "import bz2\n",
    "import json\n",
    "import re"
   ]
  },
  {
   "cell_type": "code",
   "execution_count": 32,
   "metadata": {},
   "outputs": [],
   "source": [
    "def clean_text(text):\n",
    "    \"\"\"Remove HTML tags and replace escaped quotes with actual quotes.\"\"\"\n",
    "    # Remove HTML tags\n",
    "    text = re.sub('<.*?>', '', text)\n",
    "    # Replace escaped quotes with actual quotes\n",
    "    text = text.replace('\\\"', '')\n",
    "    return text\n",
    "\n",
    "def preprocess_and_save_json_objects(input_file_path, output_file_path):\n",
    "    with open(output_file_path, 'w', encoding='utf-8') as output_file:\n",
    "        with bz2.open(input_file_path, \"rt\", encoding='utf-8') as file:\n",
    "            for line in file:\n",
    "                json_obj = json.loads(line)\n",
    "                \n",
    "                # Combine all text in the 'text' attribute\n",
    "                combined_text = \" \".join([\" \".join(paragraph) for paragraph in json_obj['text']])\n",
    "                \n",
    "                # Clean the combined text\n",
    "                cleaned_combined_text = clean_text(combined_text)\n",
    "                \n",
    "                # Concatenate the title with the cleaned combined text\n",
    "                combined_text_with_title = json_obj['title'] + \" \" + cleaned_combined_text\n",
    "                \n",
    "                # Create a new JSON object with only id, title, and combine_text\n",
    "                new_json_obj = {\n",
    "                    \"id\": json_obj['id'],\n",
    "                    \"title\": json_obj['title'],\n",
    "                    \"combine_text\": combined_text_with_title\n",
    "                }\n",
    "                \n",
    "                # Write the new JSON object to the output file\n",
    "                json.dump(new_json_obj, output_file, ensure_ascii=False)\n",
    "                output_file.write('\\n')"
   ]
  },
  {
   "cell_type": "code",
   "execution_count": 33,
   "metadata": {},
   "outputs": [
    {
     "name": "stdout",
     "output_type": "stream",
     "text": [
      "Processed JSON objects have been saved to Processed_wiki.json\n"
     ]
    }
   ],
   "source": [
    "# Input file path\n",
    "input_file_path = 'wiki_00.bz2'\n",
    "# Output file path\n",
    "output_file_path = 'Processed_wiki.json'\n",
    "\n",
    "# Preprocess the dataset and save the results\n",
    "preprocess_and_save_json_objects(input_file_path, output_file_path)\n",
    "\n",
    "print(f\"Processed JSON objects have been saved to {output_file_path}\")\n"
   ]
  }
 ],
 "metadata": {
  "kernelspec": {
   "display_name": "Python 3",
   "language": "python",
   "name": "python3"
  },
  "language_info": {
   "codemirror_mode": {
    "name": "ipython",
    "version": 3
   },
   "file_extension": ".py",
   "mimetype": "text/x-python",
   "name": "python",
   "nbconvert_exporter": "python",
   "pygments_lexer": "ipython3",
   "version": "3.9.19"
  }
 },
 "nbformat": 4,
 "nbformat_minor": 2
}
